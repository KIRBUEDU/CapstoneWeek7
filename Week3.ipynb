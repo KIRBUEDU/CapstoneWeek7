{
 "cells": [
  {
   "cell_type": "markdown",
   "id": "e20d972b-a9e2-4aa1-a268-749d7722771d",
   "metadata": {},
   "source": [
    "# Week 3 - Univariate Analysis\n",
    "\n",
    "## Please run the cells of the notebook as you get to them while reading"
   ]
  },
  {
   "cell_type": "code",
   "execution_count": null,
   "id": "81e466f2-afc8-4d96-b87c-bf77d255efb0",
   "metadata": {},
   "outputs": [],
   "source": [
    "import pandas as pd\n",
    "import numpy as np\n",
    "from datetime import datetime, timedelta"
   ]
  },
  {
   "cell_type": "markdown",
   "id": "75d63dbc-c416-4795-b467-2aac90e94936",
   "metadata": {},
   "source": [
    "# 1. Lesson: Bar charts and univariate graphs"
   ]
  },
  {
   "cell_type": "markdown",
   "id": "6ddb2ef8-8dd7-4a31-b4f7-2bda4f8a2dc6",
   "metadata": {},
   "source": [
    "Let's make a dataset (in this case, just a series) which is weighted to have more small values than large values.  By squaring a random number between 0 and 1, we ensure that half (those whose initial value is below 0.5) are below 0.25, while the other half are between 0.25 and 1.  This means that most of the values are small, and it's more interesting than analyzing a perfectly uniform dataset.  This kind of trick - transforming one random variable to get another - can generate a variety of random datasets for you.  We then multiply by 100 to get a number between 0 and 100."
   ]
  },
  {
   "cell_type": "code",
   "execution_count": null,
   "id": "96652a58-79ae-40f4-b67c-b8a0a55013f2",
   "metadata": {},
   "outputs": [],
   "source": [
    "np.random.seed(0)\n",
    "lesson_series = np.round(np.random.random(size = 1000)**2 * 100, 2)\n",
    "lesson_series[0:10] # check the first ten values.  Are they mostly on the small side?"
   ]
  },
  {
   "cell_type": "code",
   "execution_count": null,
   "id": "0d606a71-e00b-47ee-bafb-7fc7bf8ca10d",
   "metadata": {},
   "outputs": [],
   "source": [
    "import seaborn as sns"
   ]
  },
  {
   "cell_type": "markdown",
   "id": "5f508c3c-5912-405d-8013-2fac1ed17e47",
   "metadata": {},
   "source": [
    "In the plot below, you can see a histogram of the values in the series.  For some reason, it decided to have exactly 11 bins (we allowed it to choose the number of bins.)  Most values - about 300 of them - are between 0 and 9, and the next most likely bin is between 9 and 18.  Since there are 1000 values, the total of the bars should be 1000."
   ]
  },
  {
   "cell_type": "code",
   "execution_count": null,
   "id": "0688a654-867b-4e35-9472-0374cd0e1969",
   "metadata": {},
   "outputs": [],
   "source": [
    "sns.histplot(lesson_series)"
   ]
  },
  {
   "cell_type": "markdown",
   "id": "a1532003-348e-4699-bcd3-ae9120a8d6ff",
   "metadata": {},
   "source": [
    "There are 11 bins or bars, a number which by default is chosen by seaborn.  We can reproduce this manually to (hopefully) see the same values as numbers. I'm not sure that this second histogram is guaranteed to be exactly the same, but it looks the same to me:"
   ]
  },
  {
   "cell_type": "code",
   "execution_count": null,
   "id": "37878705-00db-4fc0-80a1-b458f39795a5",
   "metadata": {},
   "outputs": [],
   "source": [
    "np.histogram(lesson_series, bins = 11)[0]"
   ]
  },
  {
   "cell_type": "markdown",
   "id": "5ca689a6-8356-4365-b915-497ea87f27f2",
   "metadata": {},
   "source": [
    "What happens if we override seaborn and choose the number of bins ourselves?  We could choose a much larger number of bins:"
   ]
  },
  {
   "cell_type": "code",
   "execution_count": null,
   "id": "7aa9bfd8-7098-4c3d-89e4-28cd1523f1bd",
   "metadata": {},
   "outputs": [],
   "source": [
    "sns.histplot(lesson_series, bins = 50)"
   ]
  },
  {
   "cell_type": "markdown",
   "id": "6330f86d-d10c-4304-b68a-1a0f2e592d8b",
   "metadata": {},
   "source": [
    "One disadvantage of this 50 bin picture is that the outliers are worse.  That is, the graph wobbles up and down a bit more randomly.  That's because there are fewer values in each bin, so there's more of a role for chance to take effect.  If we had many more data points and/or fewer bins, we could get rid of this wobble."
   ]
  },
  {
   "cell_type": "code",
   "execution_count": null,
   "id": "04cada4b-f3d9-4393-bd07-666a6c23c213",
   "metadata": {},
   "outputs": [],
   "source": [
    "lesson_series_2 = np.round(np.random.random(size = 10000)**2 * 100, 2)\n",
    "sns.histplot(lesson_series_2, bins = 50)"
   ]
  },
  {
   "cell_type": "markdown",
   "id": "42aa1dd3-ffd2-4819-b60e-286416de06b6",
   "metadata": {},
   "source": [
    "Here you can see that because the number of bins is the same as in the second graph above, but for more data, the histogram is a smoother graph.  Why does more data make for a smoother graph?  Something for you to think about.  I said it's because a larger number of data points in each bin reduces the role of chance - but why is that?"
   ]
  },
  {
   "cell_type": "markdown",
   "id": "d6e2c2c0-1569-4555-942a-1bd83c60448a",
   "metadata": {},
   "source": [
    "Here is a KDE (Kernel Density Estimate) plot.  It's just the same histogram, but drawn smoothly.  The KDE plot doesn't have a \"number of bins.\"  It's always drawn the same way.  In this case, because of the smoothness of the curve, it seems that x-values less then zero and above 100 are still plotted, even though there were no such values in the dataset.  This seems like a drawback of the KDE plot, especially if the viewer is unprepared for this aspect of the plot."
   ]
  },
  {
   "cell_type": "code",
   "execution_count": null,
   "id": "b97a0fb0-7de3-4e15-a8ec-1f25dd66d346",
   "metadata": {},
   "outputs": [],
   "source": [
    "sns.kdeplot(lesson_series)"
   ]
  },
  {
   "cell_type": "markdown",
   "id": "8dabbb18-410d-4d8f-8d68-dde5775d98de",
   "metadata": {},
   "source": [
    "We could also draw a box plot.  This time, to construct the data I used a fourth power rather than squaring, with only 100 data points, so that the points are even more concentrated toward the small numbers.  It turns out that this will create a more interesting boxplot.  The top and bottom edges of the box are the 75th and 25th percentile, respectively, and the top and bottom \"whiskers\" show a larger range which is a multiple of 1.5 times the the box height.  (The bottom whisker cannot be see because it's pushed against the bottom of the graph.)  The filled-in box shows that half of the values are between about 0 and 30 on the y-axis.  Is that what you'd expect?  The 25th and 75th percentile of the original uniform random variable are at 0.25 and 0.75.  Taken to the fourth power and multiplied by 100 (remember, that's how we constructed our sample), that's 0.25\\*\\*4 * 100 = 0.4 and 0.75\\*\\*4 * 100 = 32.  It's plausible that those are the height of the bottom and top of the box.  We can see that a small number of samples are above the top whisker; they are shown as individual dots."
   ]
  },
  {
   "cell_type": "code",
   "execution_count": null,
   "id": "463ce00d-95ef-4ac7-b827-419eef7c6a74",
   "metadata": {},
   "outputs": [],
   "source": [
    "lesson_series_3 = np.round(np.random.random(size = 100)**4 * 100, 2)\n",
    "sns.boxplot(lesson_series_3)"
   ]
  },
  {
   "cell_type": "markdown",
   "id": "a7af6744-1401-47b2-baf9-f6e4ca7d039c",
   "metadata": {},
   "source": [
    "If we go back to the original lesson_series with the squared values, there will be two whiskers, because it isn't so strongly weighted toward small values:"
   ]
  },
  {
   "cell_type": "code",
   "execution_count": null,
   "id": "6e978263-079f-49fc-9448-f41a9bac1482",
   "metadata": {},
   "outputs": [],
   "source": [
    "sns.boxplot(lesson_series)"
   ]
  },
  {
   "cell_type": "markdown",
   "id": "3b1e20ff-5610-4a30-8a88-73c784c83c01",
   "metadata": {},
   "source": [
    "Going back to the fourth power series, another histogram variant is the violin plot.  This simply combines a kde plot (turned on its side and forming two side of the violin) with a boxplot:"
   ]
  },
  {
   "cell_type": "code",
   "execution_count": null,
   "id": "fefb2109-f9f7-4859-ace4-2c27c45db3f4",
   "metadata": {},
   "outputs": [],
   "source": [
    "sns.violinplot(lesson_series_3)"
   ]
  },
  {
   "cell_type": "markdown",
   "id": "4c4b302b-852f-4e56-8d94-4325d8bb596a",
   "metadata": {},
   "source": [
    "Finally, a swarm plot shows the histogram (turned on its side and doubled, as with the violin plot) but showing each individual point."
   ]
  },
  {
   "cell_type": "code",
   "execution_count": null,
   "id": "e80081df-fb4c-4bb8-83b2-be302662674a",
   "metadata": {},
   "outputs": [],
   "source": [
    "sns.swarmplot(lesson_series_3)"
   ]
  },
  {
   "cell_type": "markdown",
   "id": "df4e2071-90d1-4bdc-9010-4622ba0bebbb",
   "metadata": {},
   "source": [
    "# 2. Weekly graph question"
   ]
  },
  {
   "cell_type": "markdown",
   "id": "ebe3d84d-c649-4d16-8b25-c41d1a60fd40",
   "metadata": {},
   "source": [
    "Below are a histogram and table representation of the same data.  A species of bird is being analyzed, and each individual's body length in inches has been measured.\n",
    "\n",
    "Please write a short explanation of the pros and cons of these two representations.  Which would you choose?  How would you modify the formatting, if at all, to make it more visually interesting, clear, or informative?"
   ]
  },
  {
   "cell_type": "code",
   "execution_count": 1,
   "id": "19a155ac-8ae0-4b05-be4d-7032dafe5df1",
   "metadata": {},
   "outputs": [],
   "source": [
    "import numpy as np\n",
    "import pandas as pd\n",
    "\n",
    "np.random.seed(0)\n",
    "num_data = 10000\n",
    "data = np.random.normal(size = num_data) + 6\n",
    "df = pd.DataFrame(data.T, columns = [\"data\"])"
   ]
  },
  {
   "cell_type": "code",
   "execution_count": 2,
   "id": "f1bc4c4b-eeef-4b53-9142-ed982f85f341",
   "metadata": {},
   "outputs": [],
   "source": [
    "histnums = np.histogram(df[\"data\"])\n",
    "histcounts = histnums[0]\n",
    "histmins = histnums[1][0:-1]\n",
    "histmaxes = histnums[1][1:]"
   ]
  },
  {
   "cell_type": "code",
   "execution_count": 3,
   "id": "9498b327-02fd-4bc0-a2ed-02c9a1938eb0",
   "metadata": {},
   "outputs": [
    {
     "data": {
      "application/vnd.microsoft.datawrangler.viewer.v0+json": {
       "columns": [
        {
         "name": "index",
         "rawType": "int64",
         "type": "integer"
        },
        {
         "name": "count",
         "rawType": "float64",
         "type": "float"
        },
        {
         "name": "minval",
         "rawType": "float64",
         "type": "float"
        },
        {
         "name": "maxval",
         "rawType": "float64",
         "type": "float"
        }
       ],
       "conversionMethod": "pd.DataFrame",
       "ref": "e1aae950-f86d-46cb-9808-41c83382cea1",
       "rows": [
        [
         "0",
         "10.0",
         "2.259899362048221",
         "3.0140754473401103"
        ],
        [
         "1",
         "110.0",
         "3.0140754473401103",
         "3.7682515326319996"
        ],
        [
         "2",
         "579.0",
         "3.7682515326319996",
         "4.5224276179238885"
        ],
        [
         "3",
         "1710.0",
         "4.5224276179238885",
         "5.276603703215779"
        ],
        [
         "4",
         "2833.0",
         "5.276603703215779",
         "6.030779788507667"
        ],
        [
         "5",
         "2688.0",
         "6.030779788507667",
         "6.784955873799557"
        ],
        [
         "6",
         "1479.0",
         "6.784955873799557",
         "7.539131959091446"
        ],
        [
         "7",
         "487.0",
         "7.539131959091446",
         "8.293308044383336"
        ],
        [
         "8",
         "97.0",
         "8.293308044383336",
         "9.047484129675224"
        ],
        [
         "9",
         "7.0",
         "9.047484129675224",
         "9.801660214967114"
        ]
       ],
       "shape": {
        "columns": 3,
        "rows": 10
       }
      },
      "text/html": [
       "<div>\n",
       "<style scoped>\n",
       "    .dataframe tbody tr th:only-of-type {\n",
       "        vertical-align: middle;\n",
       "    }\n",
       "\n",
       "    .dataframe tbody tr th {\n",
       "        vertical-align: top;\n",
       "    }\n",
       "\n",
       "    .dataframe thead th {\n",
       "        text-align: right;\n",
       "    }\n",
       "</style>\n",
       "<table border=\"1\" class=\"dataframe\">\n",
       "  <thead>\n",
       "    <tr style=\"text-align: right;\">\n",
       "      <th></th>\n",
       "      <th>count</th>\n",
       "      <th>minval</th>\n",
       "      <th>maxval</th>\n",
       "    </tr>\n",
       "  </thead>\n",
       "  <tbody>\n",
       "    <tr>\n",
       "      <th>0</th>\n",
       "      <td>10.0</td>\n",
       "      <td>2.259899</td>\n",
       "      <td>3.014075</td>\n",
       "    </tr>\n",
       "    <tr>\n",
       "      <th>1</th>\n",
       "      <td>110.0</td>\n",
       "      <td>3.014075</td>\n",
       "      <td>3.768252</td>\n",
       "    </tr>\n",
       "    <tr>\n",
       "      <th>2</th>\n",
       "      <td>579.0</td>\n",
       "      <td>3.768252</td>\n",
       "      <td>4.522428</td>\n",
       "    </tr>\n",
       "    <tr>\n",
       "      <th>3</th>\n",
       "      <td>1710.0</td>\n",
       "      <td>4.522428</td>\n",
       "      <td>5.276604</td>\n",
       "    </tr>\n",
       "    <tr>\n",
       "      <th>4</th>\n",
       "      <td>2833.0</td>\n",
       "      <td>5.276604</td>\n",
       "      <td>6.030780</td>\n",
       "    </tr>\n",
       "    <tr>\n",
       "      <th>5</th>\n",
       "      <td>2688.0</td>\n",
       "      <td>6.030780</td>\n",
       "      <td>6.784956</td>\n",
       "    </tr>\n",
       "    <tr>\n",
       "      <th>6</th>\n",
       "      <td>1479.0</td>\n",
       "      <td>6.784956</td>\n",
       "      <td>7.539132</td>\n",
       "    </tr>\n",
       "    <tr>\n",
       "      <th>7</th>\n",
       "      <td>487.0</td>\n",
       "      <td>7.539132</td>\n",
       "      <td>8.293308</td>\n",
       "    </tr>\n",
       "    <tr>\n",
       "      <th>8</th>\n",
       "      <td>97.0</td>\n",
       "      <td>8.293308</td>\n",
       "      <td>9.047484</td>\n",
       "    </tr>\n",
       "    <tr>\n",
       "      <th>9</th>\n",
       "      <td>7.0</td>\n",
       "      <td>9.047484</td>\n",
       "      <td>9.801660</td>\n",
       "    </tr>\n",
       "  </tbody>\n",
       "</table>\n",
       "</div>"
      ],
      "text/plain": [
       "    count    minval    maxval\n",
       "0    10.0  2.259899  3.014075\n",
       "1   110.0  3.014075  3.768252\n",
       "2   579.0  3.768252  4.522428\n",
       "3  1710.0  4.522428  5.276604\n",
       "4  2833.0  5.276604  6.030780\n",
       "5  2688.0  6.030780  6.784956\n",
       "6  1479.0  6.784956  7.539132\n",
       "7   487.0  7.539132  8.293308\n",
       "8    97.0  8.293308  9.047484\n",
       "9     7.0  9.047484  9.801660"
      ]
     },
     "execution_count": 3,
     "metadata": {},
     "output_type": "execute_result"
    }
   ],
   "source": [
    "pd.DataFrame(np.array([histcounts, histmins, histmaxes]).T, columns = [\"count\", \"minval\", \"maxval\"])"
   ]
  },
  {
   "cell_type": "code",
   "execution_count": 4,
   "id": "00edb53d-d204-44b1-ad4a-09d39bc96547",
   "metadata": {},
   "outputs": [
    {
     "data": {
      "text/plain": [
       "<Axes: ylabel='Frequency'>"
      ]
     },
     "execution_count": 4,
     "metadata": {},
     "output_type": "execute_result"
    },
    {
     "data": {
      "image/png": "[encoded data removed]",
      "text/plain": [
       "<Figure size 640x480 with 1 Axes>"
      ]
     },
     "metadata": {},
     "output_type": "display_data"
    }
   ],
   "source": [
    "df.plot.hist()"
   ]
  },
  {
   "cell_type": "markdown",
   "id": "231f7050-c29c-4f78-bd66-4f6abc7fb535",
   "metadata": {},
   "source": [
    "# 3. Homework - Amusement Park Rides"
   ]
  },
  {
   "cell_type": "markdown",
   "id": "2931ca68-9665-4c74-9480-23bfbccab34a",
   "metadata": {},
   "source": [
    "Now let's imagine we have some data about how many times different visitors to an amusement park used each ride, as well as how much money they spend at the amusement park.  Each sample represents a single visit by a single visitor on a given date."
   ]
  },
  {
   "cell_type": "code",
   "execution_count": null,
   "id": "512b59a5-748b-4d8c-95f7-d922e9e7fb31",
   "metadata": {},
   "outputs": [],
   "source": [
    "num_visits = 10000\n",
    "np.random.seed(0)"
   ]
  },
  {
   "cell_type": "code",
   "execution_count": null,
   "id": "8a954699-fbaa-425b-95db-236026631c6a",
   "metadata": {},
   "outputs": [],
   "source": [
    "df = pd.DataFrame(columns = [\"VisitDate\"])"
   ]
  },
  {
   "cell_type": "code",
   "execution_count": null,
   "id": "8f0b3b37-2288-45c3-badd-3161dd6b8d09",
   "metadata": {},
   "outputs": [],
   "source": [
    "start = datetime(2010, 1, 1)\n",
    "end = datetime(2024, 1, 1)\n",
    "numdays = (end - start).days\n",
    "random_days = np.random.randint(0, numdays, size = num_visits)\n",
    "s = start + pd.to_timedelta(random_days, unit='D')\n",
    "s = s.sort_values()\n",
    "df[\"VisitDate\"] = s"
   ]
  },
  {
   "cell_type": "code",
   "execution_count": null,
   "id": "b2e18d8f-492e-4d76-9ab2-a0973de4e5f6",
   "metadata": {},
   "outputs": [],
   "source": [
    "df[\"IsAdult\"] = np.random.choice([True, True, False], size = num_visits)"
   ]
  },
  {
   "cell_type": "code",
   "execution_count": null,
   "id": "ae55dbc8-3153-4246-9db7-933554fe04f2",
   "metadata": {},
   "outputs": [],
   "source": [
    "df[\"MartianRide\"] = np.random.choice([0] * 8 + [1] * 3 + [2] * 3 + [3] * 1 + [10], size = num_visits) * df[\"IsAdult\"]"
   ]
  },
  {
   "cell_type": "code",
   "execution_count": null,
   "id": "4e5ed8e1-69cc-4463-9895-fc3c320a5b59",
   "metadata": {},
   "outputs": [],
   "source": [
    "df[\"TeacupRide\"] = np.random.choice([0] * 2 + [1] * 5 + [2] * 3 + [5] * 2, size = num_visits) * ~df[\"IsAdult\"]"
   ]
  },
  {
   "cell_type": "code",
   "execution_count": null,
   "id": "1dbb4b1e-057c-4a36-a241-dc37e4f106ad",
   "metadata": {},
   "outputs": [],
   "source": [
    "df[\"RiverRide\"] = np.random.choice([0] * 8 + [1] * 3 + [2] * 2, size = num_visits) * df[\"IsAdult\"] + np.random.randint(1, 5, size = num_visits) * ~df[\"IsAdult\"]"
   ]
  },
  {
   "cell_type": "code",
   "execution_count": null,
   "id": "831df036-2aa7-4010-a7dc-ac136ca7e919",
   "metadata": {},
   "outputs": [],
   "source": [
    "df[\"MoneySpent\"] = np.round(np.random.random(size = num_visits)**2 * 100, 2)"
   ]
  },
  {
   "cell_type": "code",
   "execution_count": null,
   "id": "1ac12ffe-e5d1-4378-b667-ecddcfffe097",
   "metadata": {},
   "outputs": [],
   "source": [
    "df.iloc[0:5]"
   ]
  },
  {
   "cell_type": "markdown",
   "id": "c6126e8f-4b52-423a-a350-34cf52b29bb4",
   "metadata": {},
   "source": [
    "1. Find the mean, median, and mode for how many times visitors rode each ride.  See Week 1 for Google advice on this."
   ]
  },
  {
   "cell_type": "code",
   "execution_count": null,
   "id": "b71358f5-5ad4-44b2-88eb-9672a26f1de9",
   "metadata": {},
   "outputs": [],
   "source": []
  },
  {
   "cell_type": "markdown",
   "id": "8305f3a4-2658-410d-af24-0f76e55bda30",
   "metadata": {},
   "source": [
    "2. Use groupby() to find the mean, median, and mode for how many times each ride was ridden on each given day."
   ]
  },
  {
   "cell_type": "markdown",
   "id": "2a3c7d79-2f11-4080-8d6b-b5876a02dafd",
   "metadata": {},
   "source": [
    "Suggested Google search or ChatGPT prompt: \n",
    "I first tried: \"How do I use groupby to find the mean over each day in my DataFrame?\" but Google didn't help me.\n",
    "\n",
    "Then I tried: \"How do I find the mean over each date in a dataframe?\"  Sometimes, you have to try multiple searches.\n",
    "\n",
    "This gives me a very helpful site, where someone is doing the same thing we are:\n",
    "\n",
    "https://stackoverflow.com/questions/40788530/how-to-calculate-mean-of-some-rows-for-each-given-date-in-a-dataframe"
   ]
  },
  {
   "cell_type": "code",
   "execution_count": null,
   "id": "9d09bb2c-a2f1-4b7f-96bd-ce5071654864",
   "metadata": {},
   "outputs": [],
   "source": []
  },
  {
   "cell_type": "markdown",
   "id": "136a4271-922a-4f2b-9495-8eb6112701bb",
   "metadata": {},
   "source": [
    "3. Find the standard deviation and variance of the count for each ride.\n",
    "\n",
    "Suggested Google search or ChatGPT prompt: \"How do I find the standard deviation of a Series in pandas documentation?\" and similar query for variance.\n",
    "\n",
    "I included the word \"documentation\" because this task likely involves applying one single function for standard deviation and another for variance, so I expected that I could find a single documentation page for each that would cover my needs.  I get these:\n",
    "\n",
    "https://pandas.pydata.org/pandas-docs/dev/reference/api/pandas.Series.var.html\n",
    "\n",
    "https://pandas.pydata.org/docs/reference/api/pandas.Series.std.html"
   ]
  },
  {
   "cell_type": "code",
   "execution_count": null,
   "id": "a407b40f-468f-4a5f-91d4-e2361ffc20d9",
   "metadata": {},
   "outputs": [],
   "source": []
  },
  {
   "cell_type": "markdown",
   "id": "c05f00b7-0ccc-42ea-a4da-6d5ff1fef4ae",
   "metadata": {},
   "source": [
    "4. Find the 90th percentile count for each ride.  That is, if the customers are ordered by their number of rides, and there are 100 customers, how many rides does the 90th person take?  There is a function in pandas that easily does this calculation.\n",
    "\n",
    "Suggested Google search or ChatGPT prompt: \"How do I find a percentile value for a Series in pandas documentation?\"\n",
    "\n",
    "This time, I will let you find the page!  Hint: it's not actually called the \"percentile\" function."
   ]
  },
  {
   "cell_type": "code",
   "execution_count": null,
   "id": "caeabcfa-a68e-4951-be11-46e36e83faa2",
   "metadata": {},
   "outputs": [],
   "source": []
  },
  {
   "cell_type": "markdown",
   "id": "b628a048-58fe-4162-9763-db1349a33d47",
   "metadata": {},
   "source": [
    "5. Plot a histogram of the ride count, using each day as data element as you did in #2.  Use both the total ride count for each day as well as, separately, the mean ride count for each day.\n",
    "\n",
    "Suggested Google search or ChatGPT prompt: \"How do I plot a histogram for a Series in pandas?\"\n",
    "\n",
    "I found this: https://pandas.pydata.org/docs/reference/api/pandas.Series.plot.hist.html\n",
    "\n",
    "Note: the \"by\" keyword will not help you plot a count for each day; if you try to use it for this, it will try to draw a separate histogram for each day.\n",
    "\n",
    "You've already learned how to find the mean ride count for each day.  Can you use a similar idea to find the total ride count for each day?"
   ]
  },
  {
   "cell_type": "code",
   "execution_count": null,
   "id": "1cc2b321-a982-49e5-af3a-0d1414cce823",
   "metadata": {},
   "outputs": [],
   "source": []
  },
  {
   "cell_type": "markdown",
   "id": "5f1bc078-f570-4747-86b6-4979af98ddab",
   "metadata": {},
   "source": [
    "6. Make a bar chart showing the total number of Adult and Child participants.\n",
    "\n",
    "Try to formulate your own Google search or ChatGPT prompt.\n",
    "\n",
    "Here's one page I found:\n",
    "\n",
    "https://matplotlib.org/stable/api/_as_gen/matplotlib.pyplot.bar.html\n",
    "\n",
    "which shows some interesting examples for you to use.  I recommend clicking on the first, basic example to see how to use the function.\n",
    "\n",
    "You can also look up the pandas documentation, which might lead to an entirely different method."
   ]
  },
  {
   "cell_type": "code",
   "execution_count": null,
   "id": "4a4e6d49-3065-4510-ae62-bc34d7254b5b",
   "metadata": {},
   "outputs": [],
   "source": []
  },
  {
   "cell_type": "markdown",
   "id": "5e1657a7-b2f4-4e0c-a019-96f6a0a49390",
   "metadata": {},
   "source": [
    "7. Make a stacked bar chart showing how many Adult and Child visits took the River Ride, with the x-axis showing the number of rides and with two stacked bars (adult, child).  That is, there could be a column for the number of Adults (and Children) who took 0 rides, 1 ride, 2 rides, and so on.\n",
    "\n",
    "Try to formulate your own Google search or ChatGPT prompt.\n",
    "\n",
    "For me, the pandas documentation was easier than the matplotlib documentation.\n",
    "\n",
    "* If you use the pandas method, you might have to one-hot encode the IsAdult column.  You might want names for the new columns other than True and False.  Use df.join or pd.concat to attach the pd.get_dummies table you've created, and then groupby the RiverRide value.\n",
    "\n",
    "* You will need to end up with a small table with two columns (IsAdult True and False) and an index (RiverRide) as well as a small number of rows (the values of RiverRide)\n",
    "\n",
    "* That said, if you can come up with another approach, it's fine."
   ]
  },
  {
   "cell_type": "markdown",
   "id": "81685e12-982a-45f8-a8fe-0241448cf10d",
   "metadata": {},
   "source": [
    "8. Other tasks\n",
    "\n",
    "Use seaborn (import seaborn as sns) to create a kernel density estimation (kde) plot.  (You can choose any aspect of the amusement park dataset to plot.)  Here is a tutorial you can read about seaborn:\n",
    "\n",
    "https://seaborn.pydata.org/tutorial/introduction.html\n",
    "\n",
    "Seaborn often makes nicer looking graphs than pandas or matplotlib.\n",
    "\n",
    "Now use seaborn to make a swarm plot, a violin plot, and a box plot.\n",
    "\n",
    "Which plots are the best for showing this data?"
   ]
  },
  {
   "cell_type": "markdown",
   "id": "0cbb5ee5-7cc5-4647-8f17-d9d30ce3c9f4",
   "metadata": {},
   "source": [
    "# 4. Storytelling With Data graph\n",
    "\n",
    "Try to make a scatterplot using amusement park dataset that is similar to the one on page 45, where the two axes are the Teacup Ride count and the River Ride count.  If you want to see individual dots and not a dense swarm of dots, you'll have to cut the dataset down to a small number of points (say, 100 points or so).  You can remove the other points, for instance, and focus on the first 100 points.\n",
    "\n",
    "Here are some things you could do (you don't have to do all of them):\n",
    "\n",
    "* Draw a dashed line that roughly separates the adult from child points.\n",
    "\n",
    "* Draw the points in the adult vs. child region of the graph in different colors.\n",
    "\n",
    "* Choose the right size and number of dots to make the graph look good.\n",
    "\n",
    "* Write a word that appears on the dashed line (like AVG in the plot on page 45).\n",
    "\n",
    "If there are any other graphs in the Storytelling With Data chapter that look interesting, and you want more practice, you can try to reproduce them too."
   ]
  },
  {
   "cell_type": "code",
   "execution_count": null,
   "id": "33d5f349-b7e8-4730-a6da-114d6dc13eca",
   "metadata": {},
   "outputs": [],
   "source": []
  }
 ],
 "metadata": {
  "kernelspec": {
   "display_name": "Python 3",
   "language": "python",
   "name": "python3"
  },
  "language_info": {
   "codemirror_mode": {
    "name": "ipython",
    "version": 3
   },
   "file_extension": ".py",
   "mimetype": "text/x-python",
   "name": "python",
   "nbconvert_exporter": "python",
   "pygments_lexer": "ipython3",
   "version": "3.12.1"
  }
 },
 "nbformat": 4,
 "nbformat_minor": 5
}
